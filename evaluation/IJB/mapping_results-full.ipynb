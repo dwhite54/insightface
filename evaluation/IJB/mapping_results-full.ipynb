{
 "cells": [
  {
   "cell_type": "code",
   "execution_count": 1,
   "metadata": {},
   "outputs": [],
   "source": [
    "import numpy as np\n",
    "import matplotlib.pyplot as plt"
   ]
  },
  {
   "cell_type": "code",
   "execution_count": 2,
   "metadata": {},
   "outputs": [],
   "source": [
    "import IJB_evals as IJB"
   ]
  },
  {
   "cell_type": "code",
   "execution_count": 3,
   "metadata": {},
   "outputs": [],
   "source": [
    "from IPython.display import display"
   ]
  },
  {
   "cell_type": "code",
   "execution_count": 4,
   "metadata": {},
   "outputs": [],
   "source": [
    "class Args:\n",
    "    def __init__(self, subset='IJBC', is_bunch=False, restore_embs_left=None, restore_embs_right=None, fit_mapping=False, fit_flips=False, decay_coef=0.0, pre_template_map=False, save_result=\"IJB_result/{model_name}_{subset}.npz\"):\n",
    "        self.subset = subset\n",
    "        self.is_bunch=is_bunch\n",
    "        self.restore_embs_left = restore_embs_left\n",
    "        self.restore_embs_right = restore_embs_right\n",
    "        self.fit_mapping = fit_mapping\n",
    "        self.fit_flips = fit_flips\n",
    "        self.decay_coef = decay_coef\n",
    "        self.pre_template_map = pre_template_map\n",
    "        self.save_result = save_result\n",
    "        self.save_embeddings = False\n",
    "        self.model_file = None\n",
    "        self.data_path = './'\n",
    "        self.batch_size=64\n",
    "        self.save_label=False\n",
    "        self.force_reload=False\n",
    "        self.is_one_2_N=False\n",
    "        self.plot_only=None\n",
    "    def __str__(self):\n",
    "        return str(self.__class__) + \": \" + str(self.__dict__)"
   ]
  },
  {
   "cell_type": "markdown",
   "metadata": {},
   "source": [
    "# baseline (identity)"
   ]
  },
  {
   "cell_type": "code",
   "execution_count": null,
   "metadata": {},
   "outputs": [
    {
     "name": "stdout",
     "output_type": "stream",
     "text": [
      "<class '__main__.Args'>: {'subset': 'IJBC', 'is_bunch': True, 'restore_embs_left': '/s/red/b/nobackup/data/portable/tbiom/models/arcface-tf2/ijbc_embs_arc_res50.npy', 'restore_embs_right': None, 'fit_mapping': False, 'fit_flips': False, 'decay_coef': 0.0, 'pre_template_map': False, 'save_result': '../../../../results/baseline_arcface-tf2_res50.npz', 'save_embeddings': False, 'model_file': None, 'data_path': './', 'batch_size': 64, 'save_label': False, 'force_reload': False, 'is_one_2_N': False, 'plot_only': None}\n",
      ">>>> Reloading from backup: ./IJBC_backup.npz ...\n",
      ">>>> Reload (left) embeddings from: /s/red/b/nobackup/data/portable/tbiom/models/arcface-tf2/ijbc_embs_arc_res50.npy\n",
      ">>>> Done.\n",
      ">>>> N1D1F1 True True True\n"
     ]
    },
    {
     "data": {
      "application/vnd.jupyter.widget-view+json": {
       "model_id": "8adc7aee86844752ae049ba4cbec8751",
       "version_major": 2,
       "version_minor": 0
      },
      "text/plain": [
       "HBox(children=(HTML(value='Extract template feature'), FloatProgress(value=0.0, max=23124.0), HTML(value='')))"
      ]
     },
     "metadata": {},
     "output_type": "display_data"
    },
    {
     "name": "stdout",
     "output_type": "stream",
     "text": [
      "\n"
     ]
    },
    {
     "data": {
      "application/vnd.jupyter.widget-view+json": {
       "model_id": "2f1680aa73f6465c8f06367cd2533204",
       "version_major": 2,
       "version_minor": 0
      },
      "text/plain": [
       "HBox(children=(HTML(value='Verification'), FloatProgress(value=0.0, max=157.0), HTML(value='')))"
      ]
     },
     "metadata": {},
     "output_type": "display_data"
    },
    {
     "name": "stdout",
     "output_type": "stream",
     "text": [
      "\n",
      ">>>> N1D1F0 True True False\n"
     ]
    },
    {
     "data": {
      "application/vnd.jupyter.widget-view+json": {
       "model_id": "dc0fd8273a6a4bdc8695151ca1c37c9c",
       "version_major": 2,
       "version_minor": 0
      },
      "text/plain": [
       "HBox(children=(HTML(value='Extract template feature'), FloatProgress(value=0.0, max=23124.0), HTML(value='')))"
      ]
     },
     "metadata": {},
     "output_type": "display_data"
    },
    {
     "name": "stdout",
     "output_type": "stream",
     "text": [
      "\n"
     ]
    },
    {
     "data": {
      "application/vnd.jupyter.widget-view+json": {
       "model_id": "3fb5102e516d4a25b2cae029a37fcc8f",
       "version_major": 2,
       "version_minor": 0
      },
      "text/plain": [
       "HBox(children=(HTML(value='Verification'), FloatProgress(value=0.0, max=157.0), HTML(value='')))"
      ]
     },
     "metadata": {},
     "output_type": "display_data"
    }
   ],
   "source": [
    "args = Args(subset='IJBC', \n",
    "            is_bunch=True,\n",
    "            restore_embs_left='/s/red/b/nobackup/data/portable/tbiom/models/arcface-tf2/ijbc_embs_arc_res50.npy',\n",
    "            save_result='../../../../results/baseline_arcface-tf2_res50.npz')\n",
    "df, fig = IJB.main(args)"
   ]
  },
  {
   "cell_type": "code",
   "execution_count": null,
   "metadata": {},
   "outputs": [],
   "source": []
  }
 ],
 "metadata": {
  "kernelspec": {
   "display_name": "Python 3",
   "language": "python",
   "name": "python3"
  },
  "language_info": {
   "codemirror_mode": {
    "name": "ipython",
    "version": 3
   },
   "file_extension": ".py",
   "mimetype": "text/x-python",
   "name": "python",
   "nbconvert_exporter": "python",
   "pygments_lexer": "ipython3",
   "version": "3.7.4"
  }
 },
 "nbformat": 4,
 "nbformat_minor": 4
}
